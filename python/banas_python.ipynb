{
  "nbformat": 4,
  "nbformat_minor": 0,
  "metadata": {
    "colab": {
      "provenance": []
    },
    "kernelspec": {
      "name": "python3",
      "display_name": "Python 3"
    },
    "language_info": {
      "name": "python"
    }
  },
  "cells": [
    {
      "cell_type": "markdown",
      "source": [
        "Variables"
      ],
      "metadata": {
        "id": "VnFS85ZOk9bH"
      }
    },
    {
      "cell_type": "code",
      "execution_count": 13,
      "metadata": {
        "colab": {
          "base_uri": "https://localhost:8080/"
        },
        "collapsed": true,
        "id": "knoQ8WFSkRpW",
        "outputId": "4f36cf5f-3a3b-4edf-a2b1-846ae12e64c7"
      },
      "outputs": [
        {
          "output_type": "stream",
          "name": "stdout",
          "text": [
            "Hello World\n",
            "Brandon\n",
            "5 + 2 = 7\n",
            "5 - 2 = 3\n",
            "5 * 2 = 10\n",
            "5 / 2 = 2.5\n",
            "5 % 2 = 1\n",
            "5 ** 2 = 25\n",
            "5 // 2 = 2\n",
            "1 + 2 - 3 * 2 = -3\n",
            "(1 + 2 - 3) * 2 0\n",
            "I like this quote \"Always remember you are unique  just\n",
            "like everyone else\n",
            "\n",
            "\n",
            "\n",
            "\n",
            "\n",
            "\n",
            "I don't like newlines\n"
          ]
        }
      ],
      "source": [
        "print(\"Hello World\")\n",
        "\n",
        "name = \"Brandon\"\n",
        "print(name)\n",
        "name = 15\n",
        "\n",
        "print(\"5 + 2 =\", 5+2)\n",
        "print(\"5 - 2 =\", 5-2)\n",
        "print(\"5 * 2 =\", 5*2)\n",
        "print(\"5 / 2 =\", 5/2)\n",
        "print(\"5 % 2 =\", 5%2)\n",
        "print(\"5 ** 2 =\", 5**2)\n",
        "print(\"5 // 2 =\", 5//2)\n",
        "\n",
        "print(\"1 + 2 - 3 * 2 =\", 1 + 2 - 3 * 2)\n",
        "print(\"(1 + 2 - 3) * 2\", (1 + 2 - 3) * 2)\n",
        "\n",
        "quote = \"\\\"Always remember you are unique\"\n",
        "multi_line_quote = ''' just\n",
        "like everyone else'''\n",
        "\n",
        "print(\"%s %s %s\" % ('I like this quote', quote, multi_line_quote))\n",
        "\n",
        "print('\\n' * 5)\n",
        "\n",
        "print(\"I don't like \", end=\"\")\n",
        "print(\"newlines\")"
      ]
    },
    {
      "cell_type": "markdown",
      "source": [
        "Lists"
      ],
      "metadata": {
        "id": "s6CR4raqmXwL"
      }
    },
    {
      "cell_type": "code",
      "source": [
        "grocery_list = ['Juice', 'Tomatoes', 'Potatoes', 'Bananas']\n",
        "\n",
        "print('First Item', grocery_list[0])\n",
        "\n",
        "grocery_list[0] = 'Green Juice'\n",
        "print('First Item', grocery_list[0])\n",
        "\n",
        "print(grocery_list[1:3])\n",
        "\n",
        "other_events = ['Wash Car', 'Pick Up Kids', 'Cash Check']\n",
        "\n",
        "to_do_list = [other_events, grocery_list]\n",
        "print(to_do_list)\n",
        "\n",
        "print((to_do_list[1][1]))\n",
        "\n",
        "grocery_list.append('Onions')\n",
        "print(to_do_list)\n",
        "\n",
        "grocery_list.insert(1, \"Pickle\")\n",
        "\n",
        "grocery_list.remove(\"Pickle\")\n",
        "\n",
        "grocery_list.sort()\n",
        "\n",
        "grocery_list.reverse()\n",
        "\n",
        "del grocery_list[4]\n",
        "print(to_do_list)\n",
        "\n",
        "to_do_list2 = other_events + grocery_list\n",
        "print(len(to_do_list2))\n",
        "print(max(to_do_list2))\n",
        "print(min(to_do_list2))"
      ],
      "metadata": {
        "colab": {
          "base_uri": "https://localhost:8080/"
        },
        "collapsed": true,
        "id": "LNBKUUZylFry",
        "outputId": "781a2c78-d232-40dd-ea77-ba90f2056495"
      },
      "execution_count": 14,
      "outputs": [
        {
          "output_type": "stream",
          "name": "stdout",
          "text": [
            "First Item Juice\n",
            "First Item Green Juice\n",
            "['Tomatoes', 'Potatoes']\n",
            "[['Wash Car', 'Pick Up Kids', 'Cash Check'], ['Green Juice', 'Tomatoes', 'Potatoes', 'Bananas']]\n",
            "Tomatoes\n",
            "[['Wash Car', 'Pick Up Kids', 'Cash Check'], ['Green Juice', 'Tomatoes', 'Potatoes', 'Bananas', 'Onions']]\n",
            "[['Wash Car', 'Pick Up Kids', 'Cash Check'], ['Tomatoes', 'Potatoes', 'Onions', 'Green Juice']]\n",
            "7\n",
            "Wash Car\n",
            "Cash Check\n"
          ]
        }
      ]
    },
    {
      "cell_type": "markdown",
      "source": [
        "Tuple"
      ],
      "metadata": {
        "id": "RySau_L2nuVy"
      }
    },
    {
      "cell_type": "code",
      "source": [
        "pi_tuple = (3,1,4,1,5,9)\n",
        "\n",
        "new_list = list(pi_tuple)\n",
        "new_tuple = tuple(new_list)\n",
        "\n",
        "print(len(new_list))"
      ],
      "metadata": {
        "colab": {
          "base_uri": "https://localhost:8080/"
        },
        "collapsed": true,
        "id": "j-LQD1VCnJoD",
        "outputId": "8edf9919-e1d7-457a-d14a-4241b7504439"
      },
      "execution_count": 15,
      "outputs": [
        {
          "output_type": "stream",
          "name": "stdout",
          "text": [
            "6\n"
          ]
        }
      ]
    },
    {
      "cell_type": "markdown",
      "source": [
        "Dictionary"
      ],
      "metadata": {
        "id": "3nRLvevioKBJ"
      }
    },
    {
      "cell_type": "code",
      "source": [
        "super_villians = {'Fiddler': 'Isaac Bowin',\n",
        "                  'Captain Cold': 'Leonard Snart',\n",
        "                  'Weather Wizard': 'Mark Mardon',\n",
        "                  'Mirror Master': 'Sam Scudder',\n",
        "                  'Pied Piper': 'Thomas Peterson'}\n",
        "\n",
        "print(super_villians['Captain Cold'])\n",
        "\n",
        "del super_villians['Fiddler']\n",
        "\n",
        "super_villians['Pied Piper'] = 'Hartley Rathaway'\n",
        "\n",
        "print(len(super_villians))\n",
        "\n",
        "print(super_villians.get(\"Pied Piper\"))\n",
        "\n",
        "print(super_villians.keys())\n",
        "\n",
        "print(super_villians.values())\n"
      ],
      "metadata": {
        "colab": {
          "base_uri": "https://localhost:8080/"
        },
        "collapsed": true,
        "id": "nNsqA6r1oL-n",
        "outputId": "cef342f0-f2df-4c1d-f41b-ef639bdb8baa"
      },
      "execution_count": 16,
      "outputs": [
        {
          "output_type": "stream",
          "name": "stdout",
          "text": [
            "Leonard Snart\n",
            "4\n",
            "Hartley Rathaway\n",
            "dict_keys(['Captain Cold', 'Weather Wizard', 'Mirror Master', 'Pied Piper'])\n",
            "dict_values(['Leonard Snart', 'Mark Mardon', 'Sam Scudder', 'Hartley Rathaway'])\n"
          ]
        }
      ]
    },
    {
      "cell_type": "markdown",
      "source": [
        "Conditionals"
      ],
      "metadata": {
        "id": "3D1INI0apFGS"
      }
    },
    {
      "cell_type": "code",
      "source": [
        "age = 21\n",
        "\n",
        "if age > 16:\n",
        "  print('You are old enough to drive')\n",
        "else:\n",
        "  print('You ae not old enough to drive')\n",
        "\n",
        "if age >= 21:\n",
        "  print('You are old enough to drive a tractor trailer')\n",
        "elif age >= 16:\n",
        "  print('You are old enough to drive a car')\n",
        "else:\n",
        "  print('You are not old enough to drive')\n",
        "\n",
        "if ((age >= 1) and (age <= 18)):\n",
        "  print('You get a birthday')\n",
        "elif (age == 21) or (age >= 65):\n",
        "  print('You get a birthday')\n",
        "elif not(age == 30):\n",
        "  print(\"You don't get a birthday\")\n",
        "else:\n",
        "  print(\"You get a birthday party yeah\")"
      ],
      "metadata": {
        "colab": {
          "base_uri": "https://localhost:8080/"
        },
        "collapsed": true,
        "id": "6QX0gR5QpL6n",
        "outputId": "f0394529-610b-439c-9e90-ae06e658f99f"
      },
      "execution_count": 17,
      "outputs": [
        {
          "output_type": "stream",
          "name": "stdout",
          "text": [
            "You are old enough to drive\n",
            "You are old enough to drive a tractor trailer\n",
            "You get a birthday\n"
          ]
        }
      ]
    },
    {
      "cell_type": "markdown",
      "source": [
        "Looping"
      ],
      "metadata": {
        "id": "gQ0lceXuqFB7"
      }
    },
    {
      "cell_type": "code",
      "source": [
        "for x in range(0, 10):\n",
        "  print(x, ' ', end=\"\")\n",
        "\n",
        "print('\\n')\n",
        "\n",
        "grocery_list = ['Juice', 'Tomatoes', 'Potatoes', 'Bananas']\n",
        "\n",
        "for y in grocery_list:\n",
        "  print(y)\n",
        "\n",
        "for x in [2,4,6,8,10]:\n",
        "  print(x)\n",
        "\n",
        "num_list = [[1,2,3],[10,20,30],[100,200,300]]\n",
        "\n",
        "for x in range(0,3):\n",
        "  for y in range(0,3):\n",
        "    print(num_list[x][y])\n",
        "\n"
      ],
      "metadata": {
        "colab": {
          "base_uri": "https://localhost:8080/"
        },
        "collapsed": true,
        "id": "nrMXcrzKqF3A",
        "outputId": "2c189e44-cb39-466b-a2ef-ca50d1220503"
      },
      "execution_count": 18,
      "outputs": [
        {
          "output_type": "stream",
          "name": "stdout",
          "text": [
            "0  1  2  3  4  5  6  7  8  9  \n",
            "\n",
            "Juice\n",
            "Tomatoes\n",
            "Potatoes\n",
            "Bananas\n",
            "2\n",
            "4\n",
            "6\n",
            "8\n",
            "10\n",
            "1\n",
            "2\n",
            "3\n",
            "10\n",
            "20\n",
            "30\n",
            "100\n",
            "200\n",
            "300\n"
          ]
        }
      ]
    },
    {
      "cell_type": "markdown",
      "source": [
        "While Loop"
      ],
      "metadata": {
        "id": "7ayI8Sa5q6LL"
      }
    },
    {
      "cell_type": "code",
      "source": [
        "import random\n",
        "\n",
        "random_num = random.randrange(0,100)\n",
        "\n",
        "while(random_num != 15):\n",
        "  print(random_num)\n",
        "  random_num = random.randrange(0,100)\n",
        "\n",
        "i = 0\n",
        "\n",
        "while(i <= 20):\n",
        "  if (i%2 == 0):\n",
        "    print(i)\n",
        "  elif (i == 9):\n",
        "    break\n",
        "  else:\n",
        "    i += 1\n",
        "    continue\n",
        "\n",
        "  i = i + 1"
      ],
      "metadata": {
        "colab": {
          "base_uri": "https://localhost:8080/"
        },
        "collapsed": true,
        "id": "HCxNriVNrE8E",
        "outputId": "efce2a87-1531-415e-b12e-625f85a3b69e"
      },
      "execution_count": 19,
      "outputs": [
        {
          "output_type": "stream",
          "name": "stdout",
          "text": [
            "60\n",
            "66\n",
            "31\n",
            "53\n",
            "69\n",
            "49\n",
            "88\n",
            "42\n",
            "98\n",
            "30\n",
            "98\n",
            "65\n",
            "92\n",
            "9\n",
            "94\n",
            "67\n",
            "87\n",
            "40\n",
            "35\n",
            "66\n",
            "26\n",
            "53\n",
            "54\n",
            "29\n",
            "60\n",
            "21\n",
            "11\n",
            "31\n",
            "57\n",
            "41\n",
            "64\n",
            "37\n",
            "45\n",
            "81\n",
            "19\n",
            "29\n",
            "17\n",
            "53\n",
            "68\n",
            "73\n",
            "68\n",
            "0\n",
            "18\n",
            "75\n",
            "93\n",
            "59\n",
            "74\n",
            "9\n",
            "7\n",
            "60\n",
            "31\n",
            "7\n",
            "30\n",
            "99\n",
            "77\n",
            "98\n",
            "5\n",
            "84\n",
            "28\n",
            "16\n",
            "41\n",
            "73\n",
            "72\n",
            "67\n",
            "87\n",
            "52\n",
            "95\n",
            "99\n",
            "46\n",
            "79\n",
            "35\n",
            "89\n",
            "70\n",
            "76\n",
            "52\n",
            "75\n",
            "60\n",
            "57\n",
            "14\n",
            "31\n",
            "5\n",
            "21\n",
            "50\n",
            "81\n",
            "59\n",
            "23\n",
            "60\n",
            "0\n",
            "29\n",
            "35\n",
            "54\n",
            "24\n",
            "57\n",
            "59\n",
            "84\n",
            "68\n",
            "3\n",
            "87\n",
            "33\n",
            "44\n",
            "9\n",
            "98\n",
            "5\n",
            "27\n",
            "29\n",
            "0\n",
            "2\n",
            "4\n",
            "6\n",
            "8\n"
          ]
        }
      ]
    },
    {
      "cell_type": "markdown",
      "source": [
        "Functions"
      ],
      "metadata": {
        "id": "ocDmVWKRrqKD"
      }
    },
    {
      "cell_type": "code",
      "source": [
        "def addNumber(fNum, lNum):\n",
        "  sumNum = fNum + lNum\n",
        "  return sumNum\n",
        "\n",
        "print(addNumber(1,2))"
      ],
      "metadata": {
        "colab": {
          "base_uri": "https://localhost:8080/"
        },
        "collapsed": true,
        "id": "VmYAcXFWrrG1",
        "outputId": "ef7b2cd3-ce8c-4508-f655-15c7e1923043"
      },
      "execution_count": 20,
      "outputs": [
        {
          "output_type": "stream",
          "name": "stdout",
          "text": [
            "3\n"
          ]
        }
      ]
    },
    {
      "cell_type": "markdown",
      "source": [
        "Input"
      ],
      "metadata": {
        "id": "TIHiwF1hsBCp"
      }
    },
    {
      "cell_type": "code",
      "source": [
        "import sys\n",
        "\n",
        "print('What is your name')\n",
        "\n",
        "name = sys.stdin.readline()\n",
        "\n",
        "print('Hello', name)\n",
        "\n",
        "long_string = \"I'll catch you if you fall - The Floor\"\n",
        "\n",
        "print(long_string[0:4])\n",
        "\n",
        "print(long_string[-5:])\n",
        "\n",
        "print(long_string[:-5])\n",
        "\n",
        "print(long_string[:4] + \" be there\")\n",
        "\n",
        "print(\"%c is my %s letter and my number %d number is %.5f\" % ('X', 'favorite', 1, .14))\n",
        "\n",
        "print(long_string.capitalize())\n",
        "\n",
        "print(long_string.find(\"Floor\"))\n",
        "\n",
        "print(long_string.isalnum())\n",
        "\n",
        "print(len(long_string))\n",
        "\n",
        "print(long_string.replace(\"Floor\", \"Ground\"))\n",
        "\n",
        "print(long_string.strip())\n",
        "\n",
        "quote_list = long_string.split(\" \")\n",
        "print(quote_list)"
      ],
      "metadata": {
        "colab": {
          "base_uri": "https://localhost:8080/"
        },
        "collapsed": true,
        "id": "oNUaHHWasB5u",
        "outputId": "a5b88fb7-05a0-4d84-ad2c-c87f1adc60fd"
      },
      "execution_count": 21,
      "outputs": [
        {
          "output_type": "stream",
          "name": "stdout",
          "text": [
            "What is your name\n",
            "Hello \n",
            "I'll\n",
            "Floor\n",
            "I'll catch you if you fall - The \n",
            "I'll be there\n",
            "X is my favorite letter and my number 1 number is 0.14000\n",
            "I'll catch you if you fall - the floor\n",
            "33\n",
            "False\n",
            "38\n",
            "I'll catch you if you fall - The Ground\n",
            "I'll catch you if you fall - The Floor\n",
            "[\"I'll\", 'catch', 'you', 'if', 'you', 'fall', '-', 'The', 'Floor']\n"
          ]
        }
      ]
    },
    {
      "cell_type": "markdown",
      "source": [
        "File IO"
      ],
      "metadata": {
        "id": "pyPCuzfntagX"
      }
    },
    {
      "cell_type": "code",
      "source": [
        "import os\n",
        "\n",
        "test_file = open(\"test.txt\", \"wb\")\n",
        "\n",
        "print(test_file.mode)\n",
        "\n",
        "print(test_file.name)\n",
        "\n",
        "test_file.write(bytes(\"Write me to the file\\n\", 'UTF-8'))\n",
        "\n",
        "test_file.close()\n",
        "\n",
        "test_file = open(\"test.txt\", \"r+\")\n",
        "\n",
        "text_in_file = test_file.read()\n",
        "print(text_in_file)\n",
        "\n",
        "os.remove(\"test.txt\")"
      ],
      "metadata": {
        "colab": {
          "base_uri": "https://localhost:8080/"
        },
        "collapsed": true,
        "id": "b4Innrietcln",
        "outputId": "5e70f4c6-a20e-4222-f191-2a62a9fae919"
      },
      "execution_count": 22,
      "outputs": [
        {
          "output_type": "stream",
          "name": "stdout",
          "text": [
            "wb\n",
            "test.txt\n",
            "Write me to the file\n",
            "\n"
          ]
        }
      ]
    },
    {
      "cell_type": "markdown",
      "source": [
        "Objects"
      ],
      "metadata": {
        "id": "qu-fI5uxuAC-"
      }
    },
    {
      "cell_type": "code",
      "source": [
        "class Animal:\n",
        "  _name = \"\"\n",
        "  _height = 0\n",
        "  _weight = 0\n",
        "  _sound = 0\n",
        "\n",
        "  def __init__(self, name, height, weight, sound):\n",
        "    self._name = name\n",
        "    self._height = height\n",
        "    self._weight = weight\n",
        "    self._sound = sound\n",
        "\n",
        "\n",
        "  def set_name(self, name):\n",
        "    self._name = name\n",
        "\n",
        "  def set_height(self, height):\n",
        "    self._height = height\n",
        "\n",
        "  def set_weight(self, weight):\n",
        "    self._weight = weight\n",
        "\n",
        "  def set_sound(self, sound):\n",
        "    self._sound = sound\n",
        "\n",
        "  def get_name(self):\n",
        "    return self._name\n",
        "\n",
        "  def get_height(self):\n",
        "    return self._height\n",
        "\n",
        "  def get_weight(self):\n",
        "    return self._weight\n",
        "\n",
        "  def get_sound(self):\n",
        "    return self._sound\n",
        "\n",
        "  def get_type(self):\n",
        "    print(\"Animal\")\n",
        "\n",
        "  def toString(self):\n",
        "    return \"{} is {} cm tall and {} kilograms and say {}\".format(self._name, self._height, self._weight, self._sound)\n",
        "\n",
        "cat = Animal('Whiskers', 33, 10, 'Meow')\n",
        "print(cat.toString())\n",
        "\n",
        "class Dog(Animal):\n",
        "  _owner = \"\"\n",
        "\n",
        "  def __init__(self, name, height, weight, sound, owner):\n",
        "    self._owner = owner\n",
        "    super(Dog, self).__init__(name, height, weight, sound)\n",
        "\n",
        "  def set_owner(self, owner):\n",
        "    self._owner = owner\n",
        "\n",
        "  def get_owner(self):\n",
        "    return self._owner\n",
        "\n",
        "  def get_type(self):\n",
        "    print(\"Dog\")\n",
        "\n",
        "  def toString(self):\n",
        "    return \"{} is {} cm tall and {} kilograms and say {}. His owner is {}\".format(self._name, self._height, self._weight, self._sound, self._owner)"
      ],
      "metadata": {
        "colab": {
          "base_uri": "https://localhost:8080/"
        },
        "collapsed": true,
        "id": "lQyQ4xe_uBlx",
        "outputId": "93562dde-33cc-4e4c-9dc0-22a8741d0c02"
      },
      "execution_count": 23,
      "outputs": [
        {
          "output_type": "stream",
          "name": "stdout",
          "text": [
            "Whiskers is 33 cm tall and 10 kilograms and say Meow\n"
          ]
        }
      ]
    },
    {
      "cell_type": "markdown",
      "source": [
        "Method Overload"
      ],
      "metadata": {
        "id": "iiS9ub6RySFY"
      }
    },
    {
      "cell_type": "code",
      "source": [
        "class Dog(Animal):\n",
        "  _owner = \"\"\n",
        "\n",
        "  def __init__(self, name, height, weight, sound, owner):\n",
        "    self._owner = owner\n",
        "    super(Dog, self).__init__(name, height, weight, sound)\n",
        "\n",
        "  def set_owner(self, owner):\n",
        "    self._owner = owner\n",
        "\n",
        "  def get_owner(self):\n",
        "    return self._owner\n",
        "\n",
        "  def get_type(self):\n",
        "    print(\"Dog\")\n",
        "\n",
        "  def toString(self):\n",
        "    return \"{} is {} cm tall and {} kilograms and say {}. His owner is {}\".format(self._name, self._height, self._weight, self._sound, self._owner)\n",
        "\n",
        "  def multiple_sounds(self, how_many=None):\n",
        "    if how_many is None:\n",
        "      print(self.get_sound())\n",
        "    else:\n",
        "      print(self.get_sound() * how_many)\n",
        "\n",
        "spot = Dog(\"Spot\", 53, 27, \"Ruff\", \"Derek\")\n",
        "print(spot.toString())\n",
        "\n",
        "class AnimalTesting:\n",
        "  def get_type(self, animal):\n",
        "    animal.get_type()\n",
        "\n",
        "test_animals = AnimalTesting()\n",
        "\n",
        "test_animals.get_type(cat)\n",
        "test_animals.get_type(spot)\n",
        "\n",
        "spot.multiple_sounds(4)\n",
        "spot.multiple_sounds()"
      ],
      "metadata": {
        "colab": {
          "base_uri": "https://localhost:8080/"
        },
        "collapsed": true,
        "id": "xQZLM4T-yPSo",
        "outputId": "219c9f9f-fdd7-43a5-cf30-8d5b0cce2ffb"
      },
      "execution_count": 24,
      "outputs": [
        {
          "output_type": "stream",
          "name": "stdout",
          "text": [
            "Spot is 53 cm tall and 27 kilograms and say Ruff. His owner is Derek\n",
            "Animal\n",
            "Dog\n",
            "RuffRuffRuffRuff\n",
            "Ruff\n"
          ]
        }
      ]
    }
  ]
}